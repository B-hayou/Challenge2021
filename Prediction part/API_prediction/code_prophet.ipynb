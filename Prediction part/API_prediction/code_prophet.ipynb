{
  "nbformat": 4,
  "nbformat_minor": 0,
  "metadata": {
    "kernelspec": {
      "display_name": "Python 3",
      "language": "python",
      "name": "python3"
    },
    "language_info": {
      "codemirror_mode": {
        "name": "ipython",
        "version": 3
      },
      "file_extension": ".py",
      "mimetype": "text/x-python",
      "name": "python",
      "nbconvert_exporter": "python",
      "pygments_lexer": "ipython3",
      "version": "3.9.1"
    },
    "colab": {
      "name": "code.ipynb",
      "provenance": [],
      "toc_visible": true
    }
  },
  "cells": [
    {
      "cell_type": "code",
      "metadata": {
        "id": "pZ4-B4ngnETO"
      },
      "source": [
        "import pandas as pd\n",
        "import numpy as np\n",
        "import matplotlib.pyplot as plt"
      ],
      "execution_count": null,
      "outputs": []
    },
    {
      "cell_type": "markdown",
      "metadata": {
        "id": "bwL6dGw1nETX"
      },
      "source": [
        "## Data reading and discovering"
      ]
    },
    {
      "cell_type": "code",
      "metadata": {
        "id": "RlA5we4ynETZ"
      },
      "source": [
        "data=pd.read_csv('La myriade de Totems de Montpellier - SaisiesFormulaire.csv', sep = ',', encoding= 'utf_8')"
      ],
      "execution_count": null,
      "outputs": []
    },
    {
      "cell_type": "code",
      "metadata": {
        "colab": {
          "base_uri": "https://localhost:8080/",
          "height": 424
        },
        "id": "pSlAfk54nETb",
        "outputId": "f682a2b7-c8e2-4983-8628-0e88d20c8814"
      },
      "source": [
        "########################\n",
        "# delete empty columns #\n",
        "########################\n",
        "\n",
        "del data['Unnamed: 4']\n",
        "del data['Remarque']\n",
        "\n",
        "###################\n",
        "# displaying data # \n",
        "###################\n",
        "\n",
        "display(data)"
      ],
      "execution_count": null,
      "outputs": []
    },
    {
      "cell_type": "code",
      "metadata": {
        "colab": {
          "base_uri": "https://localhost:8080/",
          "height": 300
        },
        "id": "Jy1cBJw5nETd",
        "outputId": "99ec3335-edf4-4738-fced-08774c7318dd"
      },
      "source": [
        "data.describe()"
      ],
      "execution_count": null,
      "outputs": []
    },
    {
      "cell_type": "code",
      "metadata": {
        "colab": {
          "base_uri": "https://localhost:8080/",
          "height": 261
        },
        "id": "g-f2zD5EnETg",
        "outputId": "189db5b2-8feb-4294-e447-8bf0149b24fa"
      },
      "source": [
        "print(data.columns)\n",
        "display(data.head())"
      ],
      "execution_count": null,
      "outputs": []
    },
    {
      "cell_type": "code",
      "metadata": {
        "colab": {
          "base_uri": "https://localhost:8080/"
        },
        "id": "sHUPdc6CnETi",
        "outputId": "4f62d8b3-6a23-4525-a51f-2c483e783b04"
      },
      "source": [
        "print(data.isnull().sum())"
      ],
      "execution_count": null,
      "outputs": []
    },
    {
      "cell_type": "code",
      "metadata": {
        "colab": {
          "base_uri": "https://localhost:8080/",
          "height": 175
        },
        "id": "Nj0IpBgBnETj",
        "outputId": "aec3e4b0-3911-4e02-ba8e-7acaac2e5ce5"
      },
      "source": [
        "data[data.isna().any(axis=1)]"
      ],
      "execution_count": null,
      "outputs": []
    },
    {
      "cell_type": "code",
      "metadata": {
        "colab": {
          "base_uri": "https://localhost:8080/"
        },
        "id": "JrySPyt9nETj",
        "outputId": "1c970c47-88d8-473a-ab01-ed1ce5716bb3"
      },
      "source": [
        "dataset=data.dropna()\n",
        "dataset['Date']= pd.to_datetime(dataset['Date'] + ' ' + dataset['Heure / Time'], format=\"%d/%m/%Y %H:%M:%S\")\n",
        "dataset=dataset.drop('Heure / Time',axis=1)"
      ],
      "execution_count": null,
      "outputs": []
    },
    {
      "cell_type": "code",
      "metadata": {
        "colab": {
          "base_uri": "https://localhost:8080/",
          "height": 424
        },
        "id": "Z04eqqyQnETm",
        "outputId": "bf249547-b279-4a2e-82de-4280b810269f"
      },
      "source": [
        "dataset"
      ],
      "execution_count": null,
      "outputs": []
    },
    {
      "cell_type": "code",
      "metadata": {
        "id": "3oea9nGdnETn"
      },
      "source": [
        "df=dataset.loc[:,[\"Date\",\"Vélos ce jour / Today's total\"]]\n",
        "df.columns= [\"Date\",\"TotalPerDay\"]"
      ],
      "execution_count": null,
      "outputs": []
    },
    {
      "cell_type": "code",
      "metadata": {
        "id": "fLEx02arnETo"
      },
      "source": [
        "df=df.groupby('Date')['TotalPerDay'].sum().reset_index()\n",
        "#df[sub.Date=='12/03/2020'] to verify"
      ],
      "execution_count": null,
      "outputs": []
    },
    {
      "cell_type": "code",
      "metadata": {
        "colab": {
          "base_uri": "https://localhost:8080/",
          "height": 180
        },
        "id": "g3ITyc94nETo",
        "outputId": "8f1775f5-e539-4816-926f-1ed1cdfe778c"
      },
      "source": [
        "#plot\n",
        "df.plot.bar(figsize=(70,7),rot= 70, x='Date',y='TotalPerDay')"
      ],
      "execution_count": null,
      "outputs": []
    },
    {
      "cell_type": "markdown",
      "metadata": {
        "id": "w1C_vKIpnETo"
      },
      "source": [
        "we notice that the max nb of bikes per day is around 16000  "
      ]
    },
    {
      "cell_type": "markdown",
      "metadata": {
        "id": "jiy3ErtjnETp"
      },
      "source": [
        "we also notice that bikes pass the most in June, July, August and March. To confirm that, we visualise it as following :"
      ]
    },
    {
      "cell_type": "code",
      "metadata": {
        "colab": {
          "base_uri": "https://localhost:8080/",
          "height": 1000
        },
        "id": "6JO0HZjInETp",
        "outputId": "997b1765-63ec-496f-d944-03576db66a4d"
      },
      "source": [
        "pd.set_option(\"display.max_rows\", None, \"display.max_columns\", None) #\n",
        "display(df)"
      ],
      "execution_count": null,
      "outputs": []
    },
    {
      "cell_type": "code",
      "metadata": {
        "colab": {
          "base_uri": "https://localhost:8080/",
          "height": 612
        },
        "id": "KrHC4OownETq",
        "outputId": "5d658468-0877-4e82-d43d-28867d1cb3fe"
      },
      "source": [
        "df1=df.groupby([(df.Date.dt.year),(df.Date.dt.month)])['TotalPerDay'].sum()\n",
        "display(df1)\n",
        "df1.plot.bar()"
      ],
      "execution_count": null,
      "outputs": []
    },
    {
      "cell_type": "code",
      "metadata": {
        "colab": {
          "base_uri": "https://localhost:8080/"
        },
        "id": "0DC7A7pmnETs",
        "outputId": "5aec56e0-f78e-461d-b24e-067754a0358e"
      },
      "source": [
        "dataset_traitement=dataset\n",
        "dataset_traitement.columns\n",
        "data_train=dataset_traitement[[\"Date\",\"Vélos ce jour / Today\\'s total\"]]\n",
        "data_train.rename(columns={ \"Vélos ce jour / Today\\'s total\": \"y\"})\n",
        "data_train.sort_values(by=['Date'], inplace=True, ascending=True)\n",
        "hour_df = data_train.resample('1min', on='Date').mean()\n",
        "w_df = hour_df.reset_index().dropna()\n",
        "w_df.columns = ['ds', 'y']\n"
      ],
      "execution_count": null,
      "outputs": []
    },
    {
      "cell_type": "code",
      "metadata": {
        "colab": {
          "base_uri": "https://localhost:8080/"
        },
        "id": "yqVj5AhsnETu",
        "outputId": "0c2c891c-4418-44ba-d8e7-750d4a6722c5"
      },
      "source": [
        "from fbprophet import Prophet\n",
        "\n",
        "#P=Prophet(interval_width=0.95, yearly_seasonality=True, weekly_seasonality=False, changepoint_range=1) \n",
        "#interval_width sets the uncertainty interval to produce a confidence interval around the forecast\n",
        "#P.add_seasonality(name='monthly', period=30.5, fourier_order=5, prior_scale=0.02)\n",
        "P=Prophet()\n",
        "P.add_country_holidays(country_name='France')\n",
        "P.fit(w_df)\n",
        "\n",
        "\n",
        "#future = P.make_future_dataframe(freq='W', periods=4)  # Let's predict the next month's average prices\n",
        "\n",
        "#future.tail()"
      ],
      "execution_count": null,
      "outputs": []
    },
    {
      "cell_type": "code",
      "metadata": {
        "id": "z4D-pQPfoe5p"
      },
      "source": [
        "# define the period for which we want a prediction\r\n",
        "future = list()\r\n",
        "for i in range(12, 15):\r\n",
        "  for j in range(0,60):\r\n",
        "\t  date = \"2021-03-16 \" +str(i)+\":\"+str(j)\r\n",
        "\t  future.append([date])\r\n",
        "future = pd.DataFrame(future)\r\n",
        "future.columns = ['ds']\r\n",
        "future['ds']= pd.to_datetime(future['ds'])\r\n",
        "# use the model to make a forecast\r\n",
        "forecast = P.predict(future)\r\n",
        "# summarize the forecast\r\n",
        "print(forecast[['ds', 'yhat', 'yhat_lower', 'yhat_upper']])\r\n",
        "\r\n"
      ],
      "execution_count": null,
      "outputs": []
    }
  ]
}
